{
  "nbformat": 4,
  "nbformat_minor": 0,
  "metadata": {
    "colab": {
      "provenance": []
    },
    "kernelspec": {
      "name": "python3",
      "display_name": "Python 3"
    },
    "language_info": {
      "name": "python"
    }
  },
  "cells": [
    {
      "cell_type": "code",
      "execution_count": null,
      "metadata": {
        "id": "E254XMxaePQ9"
      },
      "outputs": [],
      "source": [
        "from google.colab import files\n",
        "files.upload()"
      ]
    },
    {
      "cell_type": "code",
      "source": [
        "import pandas as pd"
      ],
      "metadata": {
        "id": "gx2HspyrgblY"
      },
      "execution_count": 111,
      "outputs": []
    },
    {
      "cell_type": "code",
      "source": [
        "df= pd.read_csv('coffee.csv', index_col = 0)"
      ],
      "metadata": {
        "id": "doM-FeF4gbnj"
      },
      "execution_count": 112,
      "outputs": []
    },
    {
      "cell_type": "code",
      "source": [
        "df['target']=df['target'].str.replace(\"'디카페인',\",'')\n",
        "df['target']=df['target'].str.replace(\", '공정 무역'\",'')\n",
        "df['target']=df['target'].str.replace(\", '직접 무역'\",'')\n",
        "df['target']=df['target'].str.replace(\", '유기농 커피'\",'')\n",
        "df['tasty1']=df.tasty.str.split('&').str[0]\n",
        "df['tasty2']=df.tasty.str.split('&').str[1]\n",
        "df['price']=df.price .str.split('\\n').str[0]"
      ],
      "metadata": {
        "id": "UmnoMQE2gbzC"
      },
      "execution_count": 113,
      "outputs": []
    },
    {
      "cell_type": "code",
      "source": [
        "target=df['target'].str.split(\"'\", expand=True)"
      ],
      "metadata": {
        "id": "gnAPh0AdTIPN"
      },
      "execution_count": 114,
      "outputs": []
    },
    {
      "cell_type": "code",
      "source": [
        "target.columns=['일','이','삼','사','오','육','칠','팔','구']"
      ],
      "metadata": {
        "id": "Lplm0ICqeLxV"
      },
      "execution_count": 115,
      "outputs": []
    },
    {
      "cell_type": "code",
      "source": [
        "target1=target.drop(columns=['일','이','삼','오','칠','구'])"
      ],
      "metadata": {
        "id": "mfHehPGzldlc"
      },
      "execution_count": 116,
      "outputs": []
    },
    {
      "cell_type": "code",
      "source": [
        "df= pd.concat([df, target1],axis=1)"
      ],
      "metadata": {
        "id": "m-YBwHl0mIGX"
      },
      "execution_count": null,
      "outputs": []
    },
    {
      "cell_type": "code",
      "source": [
        "df = df.drop(columns=['tasty','name','target','category','coffee'])"
      ],
      "metadata": {
        "id": "BNOhFqWEmIIe"
      },
      "execution_count": 119,
      "outputs": []
    },
    {
      "cell_type": "code",
      "source": [
        "df['사'].value_counts()"
      ],
      "metadata": {
        "colab": {
          "base_uri": "https://localhost:8080/"
        },
        "id": "F-_MtLu9oKan",
        "outputId": "7d617c9d-a992-4203-b417-2b143cdce2df"
      },
      "execution_count": 122,
      "outputs": [
        {
          "output_type": "execute_result",
          "data": {
            "text/plain": [
              "가벼운 산미     85\n",
              "산미가 없어요    70\n",
              "약한 산미      69\n",
              "새콤한 산미     69\n",
              "강한 산미      6 \n",
              "Name: 사, dtype: int64"
            ]
          },
          "metadata": {},
          "execution_count": 122
        }
      ]
    },
    {
      "cell_type": "code",
      "source": [
        "name_mapping = {\n",
        "    '가벼운 산미': '1',\n",
        "    '산미가 없어요': '0', \n",
        "    '약한 산미': '1', \n",
        "    '새콤한 산미': '1', \n",
        "    '강한 산미': '1', \n",
        "}"
      ],
      "metadata": {
        "id": "lAhA9e45mIMv"
      },
      "execution_count": 123,
      "outputs": []
    },
    {
      "cell_type": "code",
      "source": [
        "func = lambda x: name_mapping.get(x, x)"
      ],
      "metadata": {
        "id": "u-IrWJw2mIO7"
      },
      "execution_count": 124,
      "outputs": []
    },
    {
      "cell_type": "code",
      "source": [
        "df['target'] = df.사.map(func)"
      ],
      "metadata": {
        "id": "aLJ7Re1GmIRG"
      },
      "execution_count": 125,
      "outputs": []
    },
    {
      "cell_type": "code",
      "source": [
        "df=df.drop(columns='사')"
      ],
      "metadata": {
        "id": "KK4XIZyvmITF"
      },
      "execution_count": 128,
      "outputs": []
    },
    {
      "cell_type": "code",
      "source": [
        "df['price']=df['price'].str.replace('원','')"
      ],
      "metadata": {
        "id": "NAmnXxM6mIVK"
      },
      "execution_count": 132,
      "outputs": []
    },
    {
      "cell_type": "code",
      "source": [
        "df['price']=df['price'].str.replace(',','')"
      ],
      "metadata": {
        "id": "dcHcnWbEmIXQ"
      },
      "execution_count": 134,
      "outputs": []
    },
    {
      "cell_type": "code",
      "source": [
        "df.columns=['price','tasty1','tasty2','blend','roasting','target']"
      ],
      "metadata": {
        "id": "J1di69HQo-0b"
      },
      "execution_count": 136,
      "outputs": []
    },
    {
      "cell_type": "code",
      "source": [
        "df.to_csv('project_coffee.csv',index=False)"
      ],
      "metadata": {
        "id": "7MpqPCWDpWOI"
      },
      "execution_count": 140,
      "outputs": []
    }
  ]
}